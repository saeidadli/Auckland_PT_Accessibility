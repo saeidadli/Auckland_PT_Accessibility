{
 "cells": [
  {
   "cell_type": "code",
   "execution_count": 2,
   "id": "f93ad720",
   "metadata": {},
   "outputs": [
    {
     "ename": "RuntimeError",
     "evalue": "module compiled against API version 0xe but this version of numpy is 0xd",
     "output_type": "error",
     "traceback": [
      "\u001b[1;31m---------------------------------------------------------------------------\u001b[0m",
      "\u001b[1;31mRuntimeError\u001b[0m                              Traceback (most recent call last)",
      "\u001b[1;31mRuntimeError\u001b[0m: module compiled against API version 0xe but this version of numpy is 0xd"
     ]
    }
   ],
   "source": [
    "import sys\n",
    "from pathlib import Path\n",
    "\n",
    "import pysal as ps\n",
    "import geopandas as gpd\n",
    "import numpy as np\n",
    "\n",
    "from libpysal.weights import Queen, Rook, KNN\n",
    "from esda.moran import Moran_Local_BV\n",
    "\n",
    "DIR = Path('..')\n",
    "sys.path.append(str(DIR))\n",
    "\n",
    "DATA_DIR = DIR/'data/'\n"
   ]
  },
  {
   "cell_type": "code",
   "execution_count": 20,
   "id": "abf7ea3b",
   "metadata": {},
   "outputs": [
    {
     "name": "stderr",
     "output_type": "stream",
     "text": [
      "C:\\Program Files\\ArcGIS\\Pro\\bin\\Python\\envs\\arcgispro-py3\\lib\\site-packages\\libpysal\\weights\\weights.py:172: UserWarning: The weights matrix is not fully connected: \n",
      " There are 4 disconnected components.\n",
      "  warnings.warn(message)\n"
     ]
    }
   ],
   "source": [
    "taz_gdf = gpd.read_file(\n",
    "    GIS_DIR/'census_2018_MB_WGS84.geojson,\n",
    ")\n",
    "\n",
    "# Calculate the weight\n",
    "w = Queen.from_dataframe(taz_gdf)\n",
    "\n",
    "#Calculate X\n",
    "x = np.array(taz_gdf['Median_Hou'])\n",
    "\n",
    "#Calculate Y\n",
    "y = np.array(taz_gdf['PT_Job_Acc'])\n",
    "\n",
    "#LISA\n",
    "lm = Moran_Local_BV(x, y, w, transformation = \"r\", permutations = 99)\n",
    "taz_gdf['LISA_class'] = lm.q\n",
    "d = {\n",
    "    1: 'High income, High accessibility',\n",
    "    2: 'Low income, High accessibility',\n",
    "    3: 'Low income, Low accessibility',\n",
    "    4: 'High income, Low accessibility',\n",
    "}\n",
    "taz_gdf['LISA_class'] = taz_gdf['LISA_class'].replace(d)\n",
    "taz_gdf['LISA_sig'] = lm.p_sim\n",
    "\n",
    "taz_gdf.to_file(str(DATA_DIR/'cluster.shp'))\n"
   ]
  }
 ],
 "metadata": {
  "kernelspec": {
   "display_name": "Python 3 (ipykernel)",
   "language": "python",
   "name": "python3"
  },
  "language_info": {
   "codemirror_mode": {
    "name": "ipython",
    "version": 3
   },
   "file_extension": ".py",
   "mimetype": "text/x-python",
   "name": "python",
   "nbconvert_exporter": "python",
   "pygments_lexer": "ipython3",
   "version": "3.7.11"
  }
 },
 "nbformat": 4,
 "nbformat_minor": 5
}
