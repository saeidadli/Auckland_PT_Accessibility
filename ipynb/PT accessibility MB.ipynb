{
 "cells": [
  {
   "cell_type": "code",
   "execution_count": 3,
   "id": "c01b5d0c",
   "metadata": {},
   "outputs": [],
   "source": [
    "import sys\n",
    "import pathlib\n",
    "\n",
    "import pandas as pd\n",
    "import pandana as pdna\n",
    "import geopandas as gpd\n",
    "\n",
    "import urbanaccess as ua\n",
    "from urbanaccess.config import settings\n",
    "from urbanaccess.gtfsfeeds import feeds\n",
    "from urbanaccess import gtfsfeeds\n",
    "from urbanaccess.gtfs.gtfsfeeds_dataframe import gtfsfeeds_dfs\n",
    "from urbanaccess.network import ua_network, load_network\n",
    "\n",
    "DIR = pathlib.Path('..')\n",
    "sys.path.append(str(DIR))\n",
    "\n",
    "DATA_DIR = DIR/'data/'\n",
    "\n",
    "%matplotlib inline"
   ]
  },
  {
   "cell_type": "code",
   "execution_count": 4,
   "id": "8927bb3d",
   "metadata": {},
   "outputs": [
    {
     "name": "stdout",
     "output_type": "stream",
     "text": [
      "Requesting network data within bounding box from Overpass API in 9 request(s)\n",
      "Posting to http://www.overpass-api.de/api/interpreter with timeout=180, \"{'data': '[out:json][timeout:180];(way[\"highway\"][\"highway\"!~\"motor|proposed|construction|abandoned|platform|raceway\"][\"foot\"!~\"no\"][\"pedestrians\"!~\"no\"](-37.31080435,173.90530000,-36.89890382,174.35734505);>;);out;'}\"\n",
      "Downloaded 0.3KB from www.overpass-api.de in 0.75 seconds\n",
      "Posting to http://www.overpass-api.de/api/interpreter with timeout=180, \"{'data': '[out:json][timeout:180];(way[\"highway\"][\"highway\"!~\"motor|proposed|construction|abandoned|platform|raceway\"][\"foot\"!~\"no\"][\"pedestrians\"!~\"no\"](-36.90982354,173.90544675,-36.48878337,174.37135010);>;);out;'}\"\n",
      "Downloaded 373.8KB from www.overpass-api.de in 1.31 seconds\n",
      "Posting to http://www.overpass-api.de/api/interpreter with timeout=180, \"{'data': '[out:json][timeout:180];(way[\"highway\"][\"highway\"!~\"motor|proposed|construction|abandoned|platform|raceway\"][\"foot\"!~\"no\"][\"pedestrians\"!~\"no\"](-36.49996685,173.90530000,-36.10680000,174.38445850);>;);out;'}\"\n",
      "Downloaded 1,574.8KB from www.overpass-api.de in 2.03 seconds\n",
      "Posting to http://www.overpass-api.de/api/interpreter with timeout=180, \"{'data': '[out:json][timeout:180];(way[\"highway\"][\"highway\"!~\"motor|proposed|construction|abandoned|platform|raceway\"][\"foot\"!~\"no\"][\"pedestrians\"!~\"no\"](-36.50960873,174.37135010,-36.10861533,174.86374800);>;);out;'}\"\n",
      "Downloaded 6,519.6KB from www.overpass-api.de in 2.90 seconds\n",
      "Posting to http://www.overpass-api.de/api/interpreter with timeout=180, \"{'data': '[out:json][timeout:180];(way[\"highway\"][\"highway\"!~\"motor|proposed|construction|abandoned|platform|raceway\"][\"foot\"!~\"no\"][\"pedestrians\"!~\"no\"](-36.51706685,174.85277640,-36.10680000,175.31718278);>;);out;'}\"\n",
      "Downloaded 160.6KB from www.overpass-api.de in 1.12 seconds\n",
      "Posting to http://www.overpass-api.de/api/interpreter with timeout=180, \"{'data': '[out:json][timeout:180];(way[\"highway\"][\"highway\"!~\"motor|proposed|construction|abandoned|platform|raceway\"][\"foot\"!~\"no\"][\"pedestrians\"!~\"no\"](-36.92730665,174.84133093,-36.50960873,175.31718278);>;);out;'}\"\n",
      "Downloaded 9,631.0KB from www.overpass-api.de in 3.29 seconds\n",
      "Posting to http://www.overpass-api.de/api/interpreter with timeout=180, \"{'data': '[out:json][timeout:180];(way[\"highway\"][\"highway\"!~\"motor|proposed|construction|abandoned|platform|raceway\"][\"foot\"!~\"no\"][\"pedestrians\"!~\"no\"](-37.31090479,174.83018872,-36.91960956,175.31718008);>;);out;'}\"\n",
      "Downloaded 22,708.6KB from www.overpass-api.de in 4.15 seconds\n",
      "Posting to http://www.overpass-api.de/api/interpreter with timeout=180, \"{'data': '[out:json][timeout:180];(way[\"highway\"][\"highway\"!~\"motor|proposed|construction|abandoned|platform|raceway\"][\"foot\"!~\"no\"][\"pedestrians\"!~\"no\"](-37.31090479,174.34336533,-36.90982354,174.84133093);>;);out;'}\"\n",
      "Downloaded 13,174.0KB from www.overpass-api.de in 5.99 seconds\n",
      "Posting to http://www.overpass-api.de/api/interpreter with timeout=180, \"{'data': '[out:json][timeout:180];(way[\"highway\"][\"highway\"!~\"motor|proposed|construction|abandoned|platform|raceway\"][\"foot\"!~\"no\"][\"pedestrians\"!~\"no\"](-36.91960956,174.35734505,-36.49996685,174.85277640);>;);out;'}\"\n",
      "Downloaded 51,236.6KB from www.overpass-api.de in 12.19 seconds\n",
      "Downloaded OSM network data within bounding box from Overpass API in 9 request(s) and 38.05 seconds\n",
      "55,001 duplicate records removed. Took 8.15 seconds\n",
      "Returning OSM data with 738,907 nodes and 112,320 ways...\n",
      "Edge node pairs completed. Took 147.00 seconds\n",
      "Returning processed graph with 130,994 nodes and 348,402 edges...\n",
      "Completed OSM data download and Pandana node and edge table creation in 198.39 seconds\n",
      "checking for low connectivity nodes...\n",
      "203 out of 130,994 nodes (0.15 percent of total) were identified as having low connectivity and have been removed.\n",
      "Completed OSM data download and graph node and edge table creation in 276.39 seconds\n",
      "Created OSM network with travel time impedance using a travel speed of 3 MPH. Took 0.01 seconds\n"
     ]
    },
    {
     "data": {
      "text/plain": [
       "<urbanaccess.network.urbanaccess_network at 0x17ce84bdd48>"
      ]
     },
     "execution_count": 4,
     "metadata": {},
     "output_type": "execute_result"
    }
   ],
   "source": [
    "nodes, edges = ua.osm.load.ua_network_from_bbox(\n",
    "    bbox=(173.9053,-36.1068,175.3171,-37.3090),\n",
    ")\n",
    "ua.osm.network.create_osm_net(\n",
    "    osm_edges=edges,\n",
    "    osm_nodes=nodes,\n",
    "    travel_speed_mph=3,\n",
    ")"
   ]
  },
  {
   "cell_type": "code",
   "execution_count": 5,
   "id": "afc604c1",
   "metadata": {},
   "outputs": [
    {
     "name": "stdout",
     "output_type": "stream",
     "text": [
      "Checking GTFS text file header whitespace... Reading files using encoding: utf-8 set in configuration.\n",
      "GTFS text file header whitespace check completed. Took 27.62 seconds\n",
      "--------------------------------\n",
      "Processing GTFS feed: Auckland_GTFS_20180305\n",
      "GTFS feed: Auckland_GTFS_20180305, stops uses the same stop_id across multiple agency_ids. This feed stops table will be modified from its original format to provide stop_ids for each agency using a one to many join\n",
      "agency.txt agency_name column has more than one agency name listed. Unique agency id was assigned using the agency id and associated agency name.\n",
      "Unique agency id operation complete. Took 13.85 seconds\n",
      "Unique GTFS feed id operation complete. Took 0.01 seconds\n",
      "Appended route type to stops\n",
      "Appended route type to stop_times\n",
      "--------------------------------\n",
      "Successfully converted ['departure_time'] to seconds past midnight and appended new columns to stop_times. Took 7.27 seconds\n",
      "1 GTFS feed file(s) successfully read as dataframes:\n",
      "     Auckland_GTFS_20180305\n",
      "     Took 56.19 seconds\n",
      "WARNING: Time range passed: ['07:00:00', '19:00:00'] is a 12 hour period. Long periods over 3 hours may take a significant amount of time to process.\n",
      "Using calendar to extract service_ids to select trips.\n",
      "24,228 service_ids were extracted from calendar\n",
      "24,228 trip(s) 52.13 percent of 46,479 total trip records were found in calendar for GTFS feed(s): ['auckland gtfs 20180305']\n",
      "NOTE: If you expected more trips to have been extracted and your GTFS feed(s) have a calendar_dates file, consider utilizing the calendar_dates_lookup parameter in order to add additional trips based on information inside of calendar_dates. This should only be done if you know the corresponding GTFS feed is using calendar_dates instead of calendar to specify service_ids. When in doubt do not use the calendar_dates_lookup parameter.\n",
      "24,228 of 46,479 total trips were extracted representing calendar day: thursday. Took 0.29 seconds\n",
      "There are no departure time records missing from trips following the specified schedule. There are no records to interpolate.\n",
      "Difference between stop times has been successfully calculated. Took 5.43 seconds\n",
      "Stop times from 07:00:00 to 19:00:00 successfully selected 606,232 records out of 777,988 total records (77.92 percent of total). Took 0.24 seconds\n",
      "Starting transformation process for 19,941 total trips...\n",
      "stop time table transformation to Pandana format edge table completed. Took 40.89 seconds\n",
      "Time conversion completed: seconds converted to minutes.\n",
      "18,148 of 25,790 records selected from stops. Took 0.09 seconds\n",
      "stop time table transformation to Pandana format node table completed. Took 0.02 seconds\n",
      "route type successfully joined to transit edges. Took 20.13 seconds\n",
      "route id successfully joined to transit edges. Took 0.33 seconds\n",
      "Successfully created transit network. Took 70.48 seconds\n",
      "WARNING: Time range passed: ['07:00:00', '19:00:00'] is a 12 hour period. Long periods over 3 hours may take a significant amount of time to process.\n",
      "Stop times from 07:00:00 to 19:00:00 successfully selected 606,232 records out of 777,988 total records (77.92 percent of total). Took 0.22 seconds\n",
      "Starting route stop headway calculation for 59,611 route stops...\n",
      "Route stop headway calculation complete. Took 138.15 seconds\n",
      "headway calculation complete. Took 146.79 seconds\n"
     ]
    },
    {
     "data": {
      "text/plain": [
       "<urbanaccess.gtfs.gtfsfeeds_dataframe.urbanaccess_gtfs_df at 0x17ce8130388>"
      ]
     },
     "execution_count": 5,
     "metadata": {},
     "output_type": "execute_result"
    }
   ],
   "source": [
    "loaded_feeds = ua.gtfs.load.gtfsfeed_to_df(\n",
    "    gtfsfeed_path=str((DATA_DIR/'Auckland_GTFS_20180305').resolve()),\n",
    ")\n",
    "ua.gtfs.network.create_transit_net(\n",
    "    gtfsfeeds_dfs=loaded_feeds,\n",
    "    day='thursday',\n",
    "    timerange=['07:00:00', '19:00:00'],\n",
    ")\n",
    "ua.gtfs.headways.headways(\n",
    "    gtfsfeeds_df=loaded_feeds,\n",
    "    headway_timerange=['07:00:00','19:00:00'],\n",
    ")"
   ]
  },
  {
   "cell_type": "code",
   "execution_count": 6,
   "id": "2f030259",
   "metadata": {},
   "outputs": [
    {
     "name": "stdout",
     "output_type": "stream",
     "text": [
      "Loaded UrbanAccess network components comprised of:\n",
      "     Transit: 18,148 nodes and 586,291 edges;\n",
      "     OSM: 130,791 nodes and 348,076 edges\n",
      "routes successfully joined to transit nodes. Took 1.38 seconds\n",
      "Connector edges between the OSM and transit network nodes successfully completed. Took 35.62 seconds\n",
      "mean route stop headway will be used for pedestrian to transit edge impedance.\n",
      "Headway impedance calculation completed. Took 0.82 seconds\n",
      "Edge and node tables formatted for Pandana with integer node ids: id_int, to_int, and from_int. Took 20.64 seconds\n",
      "Network edge and node network integration completed successfully resulting in a total of 190,400 nodes and 1,600,206 edges:\n",
      "     Transit: 59,609 nodes 586,291 edges;\n",
      "     OSM: 130,791 nodes 348,076 edges; and\n",
      "     OSM/Transit connector: 665,839 edges.\n"
     ]
    },
    {
     "data": {
      "text/plain": [
       "<urbanaccess.network.urbanaccess_network at 0x17ce84bdd48>"
      ]
     },
     "execution_count": 6,
     "metadata": {},
     "output_type": "execute_result"
    }
   ],
   "source": [
    "urbanaccess_net = ua.network.ua_network\n",
    "ua.network.integrate_network(\n",
    "    urbanaccess_network=urbanaccess_net,\n",
    "    headways=True,\n",
    "    urbanaccess_gtfsfeeds_df=loaded_feeds,\n",
    "    headway_statistic='mean',\n",
    ")"
   ]
  },
  {
   "cell_type": "code",
   "execution_count": 7,
   "id": "c02b8758",
   "metadata": {},
   "outputs": [
    {
     "name": "stdout",
     "output_type": "stream",
     "text": [
      "New final_net_March2018.h5 hdf5 store created in dir: G:\\My Drive\\Company\\SE0070_MOT_PT_Justice\\data\n"
     ]
    },
    {
     "name": "stderr",
     "output_type": "stream",
     "text": [
      "C:\\Program Files\\ArcGIS\\Pro\\bin\\Python\\envs\\arcgispro-py3\\lib\\site-packages\\tables\\leaf.py:353: RuntimeWarning: overflow encountered in long_scalars\n",
      "  expected_mb = (expectedrows * rowsize) // MB\n"
     ]
    },
    {
     "name": "stdout",
     "output_type": "stream",
     "text": [
      "edges saved in G:\\My Drive\\Company\\SE0070_MOT_PT_Justice\\data/final_net_March2018.h5 hdf5 store.\n",
      "Using existing G:\\My Drive\\Company\\SE0070_MOT_PT_Justice\\data/final_net_March2018.h5 hdf5 store.\n",
      "nodes saved in G:\\My Drive\\Company\\SE0070_MOT_PT_Justice\\data/final_net_March2018.h5 hdf5 store.\n"
     ]
    }
   ],
   "source": [
    "ua.network.save_network(\n",
    "    urbanaccess_network=urbanaccess_net,\n",
    "    filename='final_net_March2018.h5',\n",
    "    dir=str(DATA_DIR.resolve()),\n",
    "    overwrite_key = True,\n",
    ")"
   ]
  },
  {
   "cell_type": "code",
   "execution_count": 8,
   "id": "91e01b28",
   "metadata": {},
   "outputs": [],
   "source": [
    "transit_ped_net = pdna.Network(\n",
    "    urbanaccess_net.net_nodes[\"x\"],\n",
    "    urbanaccess_net.net_nodes[\"y\"],\n",
    "    urbanaccess_net.net_edges[\"from_int\"],\n",
    "    urbanaccess_net.net_edges[\"to_int\"],\n",
    "    urbanaccess_net.net_edges[[\"weight\"]], \n",
    "    twoway=False,\n",
    ")"
   ]
  },
  {
   "cell_type": "code",
   "execution_count": 9,
   "id": "76623e25",
   "metadata": {},
   "outputs": [
    {
     "name": "stderr",
     "output_type": "stream",
     "text": [
      "C:\\Program Files\\ArcGIS\\Pro\\bin\\Python\\envs\\arcgispro-py3\\lib\\site-packages\\ipykernel_launcher.py:6: UserWarning: Geometry is in a geographic CRS. Results from 'centroid' are likely incorrect. Use 'GeoSeries.to_crs()' to re-project geometries to a projected CRS before this operation.\n",
      "\n",
      "  \n",
      "C:\\Program Files\\ArcGIS\\Pro\\bin\\Python\\envs\\arcgispro-py3\\lib\\site-packages\\ipykernel_launcher.py:7: UserWarning: Geometry is in a geographic CRS. Results from 'centroid' are likely incorrect. Use 'GeoSeries.to_crs()' to re-project geometries to a projected CRS before this operation.\n",
      "\n",
      "  import sys\n",
      "C:\\Program Files\\ArcGIS\\Pro\\bin\\Python\\envs\\arcgispro-py3\\lib\\site-packages\\ipykernel_launcher.py:8: UserWarning: Geometry is in a geographic CRS. Results from 'centroid' are likely incorrect. Use 'GeoSeries.to_crs()' to re-project geometries to a projected CRS before this operation.\n",
      "\n",
      "  \n"
     ]
    }
   ],
   "source": [
    "census = gpd.read_file(\n",
    "    GIS_DIR/'census_2018_MB_WGS84.geojson,\n",
    ")\n",
    "census['centroid'] = census.centroid\n",
    "census['x'] = census.centroid.map(lambda x: x.x)\n",
    "census['y'] = census.centroid.map(lambda y: y.y)\n",
    "\n",
    "census['node_id'] = transit_ped_net.get_node_ids(census['x'], census['y'])\n",
    "\n",
    "transit_ped_net.set(census.node_id, variable = census['Place_of_Work_2018'], name='jobs')\n",
    "jobs_45 = transit_ped_net.aggregate(45, type='sum', decay='linear', name='jobs')\n",
    "jobs_30 = transit_ped_net.aggregate(30, type='sum', decay='linear', name='jobs')\n",
    "jobs_15 = transit_ped_net.aggregate(15, type='sum', decay='linear', name='jobs')\n"
   ]
  },
  {
   "cell_type": "code",
   "execution_count": 10,
   "id": "6c04c4ec",
   "metadata": {},
   "outputs": [
    {
     "data": {
      "text/html": [
       "<div>\n",
       "<style scoped>\n",
       "    .dataframe tbody tr th:only-of-type {\n",
       "        vertical-align: middle;\n",
       "    }\n",
       "\n",
       "    .dataframe tbody tr th {\n",
       "        vertical-align: top;\n",
       "    }\n",
       "\n",
       "    .dataframe thead th {\n",
       "        text-align: right;\n",
       "    }\n",
       "</style>\n",
       "<table border=\"1\" class=\"dataframe\">\n",
       "  <thead>\n",
       "    <tr style=\"text-align: right;\">\n",
       "      <th></th>\n",
       "      <th>jobs</th>\n",
       "      <th>x</th>\n",
       "      <th>y</th>\n",
       "    </tr>\n",
       "    <tr>\n",
       "      <th>id_int</th>\n",
       "      <th></th>\n",
       "      <th></th>\n",
       "      <th></th>\n",
       "    </tr>\n",
       "  </thead>\n",
       "  <tbody>\n",
       "    <tr>\n",
       "      <th>1</th>\n",
       "      <td>1703.327077</td>\n",
       "      <td>175.018770</td>\n",
       "      <td>-36.784850</td>\n",
       "    </tr>\n",
       "    <tr>\n",
       "      <th>2</th>\n",
       "      <td>1649.418120</td>\n",
       "      <td>175.021950</td>\n",
       "      <td>-36.784440</td>\n",
       "    </tr>\n",
       "    <tr>\n",
       "      <th>3</th>\n",
       "      <td>1669.803672</td>\n",
       "      <td>175.026970</td>\n",
       "      <td>-36.783430</td>\n",
       "    </tr>\n",
       "    <tr>\n",
       "      <th>4</th>\n",
       "      <td>1724.052869</td>\n",
       "      <td>175.030210</td>\n",
       "      <td>-36.784160</td>\n",
       "    </tr>\n",
       "    <tr>\n",
       "      <th>5</th>\n",
       "      <td>1784.568536</td>\n",
       "      <td>175.033790</td>\n",
       "      <td>-36.783010</td>\n",
       "    </tr>\n",
       "    <tr>\n",
       "      <th>...</th>\n",
       "      <td>...</td>\n",
       "      <td>...</td>\n",
       "      <td>...</td>\n",
       "    </tr>\n",
       "    <tr>\n",
       "      <th>190396</th>\n",
       "      <td>82164.419260</td>\n",
       "      <td>174.741235</td>\n",
       "      <td>-36.758069</td>\n",
       "    </tr>\n",
       "    <tr>\n",
       "      <th>190397</th>\n",
       "      <td>82395.333480</td>\n",
       "      <td>174.741129</td>\n",
       "      <td>-36.758032</td>\n",
       "    </tr>\n",
       "    <tr>\n",
       "      <th>190398</th>\n",
       "      <td>121328.600756</td>\n",
       "      <td>174.779586</td>\n",
       "      <td>-36.848869</td>\n",
       "    </tr>\n",
       "    <tr>\n",
       "      <th>190399</th>\n",
       "      <td>120690.330357</td>\n",
       "      <td>174.779582</td>\n",
       "      <td>-36.848800</td>\n",
       "    </tr>\n",
       "    <tr>\n",
       "      <th>190400</th>\n",
       "      <td>120907.354676</td>\n",
       "      <td>174.779583</td>\n",
       "      <td>-36.848824</td>\n",
       "    </tr>\n",
       "  </tbody>\n",
       "</table>\n",
       "<p>190400 rows × 3 columns</p>\n",
       "</div>"
      ],
      "text/plain": [
       "                 jobs           x          y\n",
       "id_int                                      \n",
       "1         1703.327077  175.018770 -36.784850\n",
       "2         1649.418120  175.021950 -36.784440\n",
       "3         1669.803672  175.026970 -36.783430\n",
       "4         1724.052869  175.030210 -36.784160\n",
       "5         1784.568536  175.033790 -36.783010\n",
       "...               ...         ...        ...\n",
       "190396   82164.419260  174.741235 -36.758069\n",
       "190397   82395.333480  174.741129 -36.758032\n",
       "190398  121328.600756  174.779586 -36.848869\n",
       "190399  120690.330357  174.779582 -36.848800\n",
       "190400  120907.354676  174.779583 -36.848824\n",
       "\n",
       "[190400 rows x 3 columns]"
      ]
     },
     "execution_count": 10,
     "metadata": {},
     "output_type": "execute_result"
    }
   ],
   "source": [
    "df = jobs_45.to_frame()\n",
    "df.columns = ['jobs']\n",
    "df['x']=transit_ped_net.nodes_df.x\n",
    "df['y']=transit_ped_net.nodes_df.y\n",
    "df"
   ]
  },
  {
   "cell_type": "code",
   "execution_count": 11,
   "id": "d62811d5",
   "metadata": {},
   "outputs": [],
   "source": [
    "df.to_csv(DATA_DIR/'jobs_MB2018.csv')"
   ]
  },
  {
   "cell_type": "code",
   "execution_count": null,
   "id": "4a4aafcf",
   "metadata": {},
   "outputs": [],
   "source": []
  }
 ],
 "metadata": {
  "kernelspec": {
   "display_name": "Python 3 (ipykernel)",
   "language": "python",
   "name": "python3"
  },
  "language_info": {
   "codemirror_mode": {
    "name": "ipython",
    "version": 3
   },
   "file_extension": ".py",
   "mimetype": "text/x-python",
   "name": "python",
   "nbconvert_exporter": "python",
   "pygments_lexer": "ipython3",
   "version": "3.7.11"
  }
 },
 "nbformat": 4,
 "nbformat_minor": 5
}
